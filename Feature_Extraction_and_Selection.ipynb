{
  "nbformat": 4,
  "nbformat_minor": 0,
  "metadata": {
    "colab": {
      "provenance": [],
      "mount_file_id": "1MX3u12ejSSq-xvmo3_ZJlwv41A8nZNv3",
      "authorship_tag": "ABX9TyPtKfuwU54EIOfCZ6DiwIUe",
      "include_colab_link": true
    },
    "kernelspec": {
      "name": "python3",
      "display_name": "Python 3"
    },
    "language_info": {
      "name": "python"
    }
  },
  "cells": [
    {
      "cell_type": "markdown",
      "metadata": {
        "id": "view-in-github",
        "colab_type": "text"
      },
      "source": [
        "<a href=\"https://colab.research.google.com/github/Quantum256/Athena/blob/main/Feature_Extraction_and_Selection.ipynb\" target=\"_parent\"><img src=\"https://colab.research.google.com/assets/colab-badge.svg\" alt=\"Open In Colab\"/></a>"
      ]
    },
    {
      "cell_type": "code",
      "execution_count": null,
      "metadata": {
        "colab": {
          "base_uri": "https://localhost:8080/"
        },
        "id": "MKI3eWnFfhAq",
        "outputId": "51ef8602-05e4-4525-cc6c-54f3014e34e7"
      },
      "outputs": [
        {
          "output_type": "stream",
          "name": "stdout",
          "text": [
            "[[0.5        0.14285714]\n",
            " [1.         0.        ]\n",
            " [0.         1.        ]]\n"
          ]
        }
      ],
      "source": [
        "#Feature Extractiomn in numerical data\n",
        "import numpy as np\n",
        "import pandas as pd\n",
        "\n",
        "from sklearn.preprocessing import MinMaxScaler\n",
        "\n",
        "dataX = [[20, 0.3],[30, 0.2],[10, 0.9]]\n",
        "scaler = MinMaxScaler()\n",
        "scaled_data = scaler.fit_transform(dataX)\n",
        "print (scaled_data)"
      ]
    },
    {
      "cell_type": "code",
      "source": [
        "#binning of data\n",
        "dataX = [[20, 0.3],[30, 0.2],[10, 0.9]]\n",
        "bins = np.linspace(1,6,4)\n",
        "binned_data = np.digitize(dataX, bins)\n",
        "\n",
        "binned_data"
      ],
      "metadata": {
        "colab": {
          "base_uri": "https://localhost:8080/"
        },
        "id": "NU1j5F34l6jE",
        "outputId": "a08bd82d-cd86-41d3-c40e-c95da833799d"
      },
      "execution_count": null,
      "outputs": [
        {
          "output_type": "execute_result",
          "data": {
            "text/plain": [
              "array([[4, 0],\n",
              "       [4, 0],\n",
              "       [4, 0]])"
            ]
          },
          "metadata": {},
          "execution_count": 2
        }
      ]
    },
    {
      "cell_type": "code",
      "source": [
        "#binning of data\n",
        "dataX = [20, 0.3, 30, 0.2, 10, 0.9]\n",
        "bins = np.linspace(1,6,4)\n",
        "binned_data = np.digitize(dataX, bins)\n",
        "\n",
        "binned_data"
      ],
      "metadata": {
        "colab": {
          "base_uri": "https://localhost:8080/"
        },
        "id": "smrBCWRbnbT4",
        "outputId": "fbed32c7-7401-4b90-acfd-c00b4688c8ca"
      },
      "execution_count": null,
      "outputs": [
        {
          "output_type": "execute_result",
          "data": {
            "text/plain": [
              "array([4, 0, 4, 0, 4, 0])"
            ]
          },
          "metadata": {},
          "execution_count": 3
        }
      ]
    },
    {
      "cell_type": "code",
      "source": [
        "#polynomial features used in extracting features in non linear numerical data[high order data]\n",
        "from sklearn.preprocessing import  PolynomialFeatures\n",
        "\n",
        "dataY = [[2,3],[2,5],[1,4],[5,3]]\n",
        "poly = PolynomialFeatures(degree=2)\n",
        "poly_data = poly.fit_transform(dataY)\n",
        "poly_data"
      ],
      "metadata": {
        "colab": {
          "base_uri": "https://localhost:8080/"
        },
        "id": "CiRUXeJyoDXo",
        "outputId": "f4e1ef0f-36b8-43a5-8359-4d946e312162"
      },
      "execution_count": null,
      "outputs": [
        {
          "output_type": "execute_result",
          "data": {
            "text/plain": [
              "array([[ 1.,  2.,  3.,  4.,  6.,  9.],\n",
              "       [ 1.,  2.,  5.,  4., 10., 25.],\n",
              "       [ 1.,  1.,  4.,  1.,  4., 16.],\n",
              "       [ 1.,  5.,  3., 25., 15.,  9.]])"
            ]
          },
          "metadata": {},
          "execution_count": 10
        }
      ]
    },
    {
      "cell_type": "code",
      "source": [
        "#Categorical feature Extraction\n",
        "from sklearn.preprocessing import OneHotEncoder\n",
        "\n",
        "colorData = [['red'],['green'],['blue'],['Yellow']]\n",
        "encoder = OneHotEncoder()\n",
        "onehot_data = encoder.fit_transform(colorData).toarray()\n",
        "onehot_data"
      ],
      "metadata": {
        "colab": {
          "base_uri": "https://localhost:8080/"
        },
        "id": "TyTgSvEHqUhJ",
        "outputId": "899230a2-09c6-4648-e8aa-cc83812cb4da"
      },
      "execution_count": null,
      "outputs": [
        {
          "output_type": "execute_result",
          "data": {
            "text/plain": [
              "array([[0., 0., 0., 1.],\n",
              "       [0., 0., 1., 0.],\n",
              "       [0., 1., 0., 0.],\n",
              "       [1., 0., 0., 0.]])"
            ]
          },
          "metadata": {},
          "execution_count": 12
        }
      ]
    },
    {
      "cell_type": "code",
      "source": [
        "#read about targeted enconding\n",
        "#frequency encoding: assigns a frequency to each categprical value\n",
        "dataSeries = pd.Series(['mark','walter','paul','mark','keith','martha','keith','martha','mark'])\n",
        "frequency = dataSeries.value_counts(normalize=True)\n",
        "encodeSeries = dataSeries.map(frequency)\n",
        "encodeSeries"
      ],
      "metadata": {
        "colab": {
          "base_uri": "https://localhost:8080/"
        },
        "id": "WWNCVM8cyRXr",
        "outputId": "18c3aa49-f333-46fa-a5c8-cfce7cbf0a3b"
      },
      "execution_count": null,
      "outputs": [
        {
          "output_type": "execute_result",
          "data": {
            "text/plain": [
              "0    0.333333\n",
              "1    0.111111\n",
              "2    0.111111\n",
              "3    0.333333\n",
              "4    0.222222\n",
              "5    0.222222\n",
              "6    0.222222\n",
              "7    0.222222\n",
              "8    0.333333\n",
              "dtype: float64"
            ]
          },
          "metadata": {},
          "execution_count": 14
        }
      ]
    },
    {
      "cell_type": "code",
      "source": [
        "#label Encoding: assigns each categorical value a number\n",
        "from sklearn.preprocessing import LabelEncoder\n",
        "\n",
        "labelData = ['low','high','medium','high','low']\n",
        "encoder = LabelEncoder()\n",
        "Labeled_Data = encoder.fit_transform(labelData)\n",
        "Labeled_Data"
      ],
      "metadata": {
        "colab": {
          "base_uri": "https://localhost:8080/"
        },
        "id": "x4AQ2AX0vmpr",
        "outputId": "b441a30c-3a34-4162-a588-16132c8336e5"
      },
      "execution_count": null,
      "outputs": [
        {
          "output_type": "execute_result",
          "data": {
            "text/plain": [
              "array([1, 0, 2, 0, 1])"
            ]
          },
          "metadata": {},
          "execution_count": 13
        }
      ]
    },
    {
      "cell_type": "code",
      "source": [
        "#Feature Extraction from text data\n",
        "#Read about tokenization in natural langauge processing\n",
        "from sklearn.feature_extraction.text import CountVectorizer\n",
        "\n",
        "textData = ['how are you','are you okay','that is okay','i am okay','how are you doing']\n",
        "vector = CountVectorizer()\n",
        "textExtract = vector.fit_transform(textData)\n",
        "text = textExtract.todense()\n",
        "text\n",
        "# the matrix output is a frequency matrix which represents the number of times a word appear or the number of occurencies of a word."
      ],
      "metadata": {
        "colab": {
          "base_uri": "https://localhost:8080/"
        },
        "id": "MfATycGezzJR",
        "outputId": "dcb94194-122b-4f6e-bf20-59914a8e34ab"
      },
      "execution_count": null,
      "outputs": [
        {
          "output_type": "execute_result",
          "data": {
            "text/plain": [
              "matrix([[0, 1, 0, 1, 0, 0, 0, 1],\n",
              "        [0, 1, 0, 0, 0, 1, 0, 1],\n",
              "        [0, 0, 0, 0, 1, 1, 1, 0],\n",
              "        [1, 0, 0, 0, 0, 1, 0, 0],\n",
              "        [0, 1, 1, 1, 0, 0, 0, 1]])"
            ]
          },
          "metadata": {},
          "execution_count": 17
        }
      ]
    },
    {
      "cell_type": "code",
      "source": [
        "#Term Freqeuncy Inverse|Document Frequency Inverse\n",
        "from sklearn.feature_extraction.text import TfidfVectorizer\n",
        "\n",
        "textData2 = ['how are you','are you okay','that is okay','i am okay','how are you doing']\n",
        "vector2 = TfidfVectorizer()\n",
        "textExtract2 = vector2.fit_transform(textData)\n",
        "text2 = textExtract2.todense()\n",
        "text2\n"
      ],
      "metadata": {
        "colab": {
          "base_uri": "https://localhost:8080/"
        },
        "id": "V3ZMjmsj5tZi",
        "outputId": "83dbf9ac-8b5f-4dc4-a959-8bba9b88742e"
      },
      "execution_count": null,
      "outputs": [
        {
          "output_type": "execute_result",
          "data": {
            "text/plain": [
              "matrix([[0.        , 0.53828256, 0.        , 0.64846263, 0.        ,\n",
              "         0.        , 0.        , 0.53828256],\n",
              "        [0.        , 0.57735027, 0.        , 0.        , 0.        ,\n",
              "         0.57735027, 0.        , 0.57735027],\n",
              "        [0.        , 0.        , 0.        , 0.        , 0.63907044,\n",
              "         0.42799292, 0.63907044, 0.        ],\n",
              "        [0.83088075, 0.        , 0.        , 0.        , 0.        ,\n",
              "         0.55645052, 0.        , 0.        ],\n",
              "        [0.        , 0.41955892, 0.62647696, 0.50543767, 0.        ,\n",
              "         0.        , 0.        , 0.41955892]])"
            ]
          },
          "metadata": {},
          "execution_count": 18
        }
      ]
    },
    {
      "cell_type": "code",
      "source": [
        "#word embedding\n",
        "import gensim\n",
        "from gensim.models import Word2Vec\n",
        "\n",
        "textData2 = [['how', 'are', 'you'],['are', 'you', 'okay'],['that', 'is', 'okay'],['i', 'am', 'okay'],['how', 'are', 'you', 'doing']]\n",
        "model = Word2Vec(textData2, min_count=1)\n",
        "wordVec = model.wv['that']\n",
        "wordVec"
      ],
      "metadata": {
        "colab": {
          "base_uri": "https://localhost:8080/"
        },
        "id": "8ZdxfaQF-lVS",
        "outputId": "fef9ae53-5658-4ffd-ff4a-d8a70003703e"
      },
      "execution_count": 21,
      "outputs": [
        {
          "output_type": "execute_result",
          "data": {
            "text/plain": [
              "array([-9.5785465e-03,  8.9431154e-03,  4.1650687e-03,  9.2347348e-03,\n",
              "        6.6435025e-03,  2.9247368e-03,  9.8040197e-03, -4.4246409e-03,\n",
              "       -6.8033109e-03,  4.2273807e-03,  3.7290000e-03, -5.6646108e-03,\n",
              "        9.7047603e-03, -3.5583067e-03,  9.5494064e-03,  8.3472609e-04,\n",
              "       -6.3384566e-03, -1.9771170e-03, -7.3770545e-03, -2.9795230e-03,\n",
              "        1.0416972e-03,  9.4826873e-03,  9.3558477e-03, -6.5958775e-03,\n",
              "        3.4751510e-03,  2.2755705e-03, -2.4893521e-03, -9.2291720e-03,\n",
              "        1.0271263e-03, -8.1657059e-03,  6.3201892e-03, -5.8000805e-03,\n",
              "        5.5354391e-03,  9.8337233e-03, -1.6000033e-04,  4.5284927e-03,\n",
              "       -1.8094003e-03,  7.3607611e-03,  3.9400971e-03, -9.0103243e-03,\n",
              "       -2.3985039e-03,  3.6287690e-03, -9.9568366e-05, -1.2012708e-03,\n",
              "       -1.0554385e-03, -1.6716016e-03,  6.0495257e-04,  4.1650953e-03,\n",
              "       -4.2527914e-03, -3.8336217e-03, -5.2816868e-05,  2.6935578e-04,\n",
              "       -1.6880632e-04, -4.7855065e-03,  4.3134023e-03, -2.1719194e-03,\n",
              "        2.1035396e-03,  6.6652300e-04,  5.9696771e-03, -6.8423809e-03,\n",
              "       -6.8157101e-03, -4.4762576e-03,  9.4358288e-03, -1.5918827e-03,\n",
              "       -9.4292425e-03, -5.4504158e-04, -4.4489228e-03,  6.0000787e-03,\n",
              "       -9.5836855e-03,  2.8590010e-03, -9.2528323e-03,  1.2498009e-03,\n",
              "        5.9991982e-03,  7.3973476e-03, -7.6214634e-03, -6.0530235e-03,\n",
              "       -6.8384409e-03, -7.9183402e-03, -9.4990805e-03, -2.1254970e-03,\n",
              "       -8.3593250e-04, -7.2562015e-03,  6.7870365e-03,  1.1196196e-03,\n",
              "        5.8288667e-03,  1.4728665e-03,  7.8936579e-04, -7.3681297e-03,\n",
              "       -2.1766580e-03,  4.3210792e-03, -5.0853146e-03,  1.1307895e-03,\n",
              "        2.8833640e-03, -1.5363609e-03,  9.9322954e-03,  8.3496347e-03,\n",
              "        2.4156666e-03,  7.1182456e-03,  5.8914376e-03, -5.5806171e-03],\n",
              "      dtype=float32)"
            ]
          },
          "metadata": {},
          "execution_count": 21
        }
      ]
    },
    {
      "cell_type": "code",
      "source": [
        "#image feature extraction\n",
        "#histogram of oriented gradients\n",
        "\n",
        "import cv2\n",
        "image = cv2.imread('/content/Screenshot 2023-09-10 235110.png',0)\n",
        "hog = cv2.HOGDescriptor()\n",
        "hog_details = hog.compute(image)\n",
        "hog_details"
      ],
      "metadata": {
        "colab": {
          "base_uri": "https://localhost:8080/"
        },
        "id": "kKSQyMChDpXo",
        "outputId": "08e7895e-1364-4720-9356-be51d465bcac"
      },
      "execution_count": 22,
      "outputs": [
        {
          "output_type": "execute_result",
          "data": {
            "text/plain": [
              "array([0.0470809 , 0.26321402, 0.47439966, ..., 0.01107957, 0.09720265,\n",
              "       0.47748142], dtype=float32)"
            ]
          },
          "metadata": {},
          "execution_count": 22
        }
      ]
    }
  ]
}