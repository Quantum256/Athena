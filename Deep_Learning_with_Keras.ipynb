{
  "nbformat": 4,
  "nbformat_minor": 0,
  "metadata": {
    "colab": {
      "provenance": [],
      "authorship_tag": "ABX9TyPyE0SyyyrwzdnYV/gakFQ2",
      "include_colab_link": true
    },
    "kernelspec": {
      "name": "python3",
      "display_name": "Python 3"
    },
    "language_info": {
      "name": "python"
    }
  },
  "cells": [
    {
      "cell_type": "markdown",
      "metadata": {
        "id": "view-in-github",
        "colab_type": "text"
      },
      "source": [
        "<a href=\"https://colab.research.google.com/github/Quantum256/Athena/blob/main/Deep_Learning_with_Keras.ipynb\" target=\"_parent\"><img src=\"https://colab.research.google.com/assets/colab-badge.svg\" alt=\"Open In Colab\"/></a>"
      ]
    },
    {
      "cell_type": "markdown",
      "source": [
        "# Import Libraries"
      ],
      "metadata": {
        "id": "dw6JCMVySq9m"
      }
    },
    {
      "cell_type": "code",
      "execution_count": 4,
      "metadata": {
        "id": "9HTSqv0gQx9S"
      },
      "outputs": [],
      "source": [
        "#deep learning with keras API\n",
        "import numpy as np\n",
        "import matplotlib.pyplot as plt\n",
        "import tensorflow as tf\n",
        "import random\n",
        "\n",
        "#MNIST dataset\n",
        "from keras.datasets import mnist\n",
        "#Model\n",
        "from keras.models import Sequential\n",
        "#layers\n",
        "from keras.layers import Conv2D, MaxPooling2D, Flatten, Dense, Dropout\n",
        "from keras.utils import to_categorical"
      ]
    },
    {
      "cell_type": "markdown",
      "source": [
        "# Load Dataset"
      ],
      "metadata": {
        "id": "w5cy4awTS0ur"
      }
    },
    {
      "cell_type": "code",
      "source": [
        "(x_train, y_train), (x_test, y_test) = mnist.load_data()\n"
      ],
      "metadata": {
        "id": "1SiL3fBNS7rV",
        "colab": {
          "base_uri": "https://localhost:8080/"
        },
        "outputId": "394730d9-602f-4587-cde5-fb1076d49b0c"
      },
      "execution_count": 5,
      "outputs": [
        {
          "output_type": "stream",
          "name": "stdout",
          "text": [
            "Downloading data from https://storage.googleapis.com/tensorflow/tf-keras-datasets/mnist.npz\n",
            "11490434/11490434 [==============================] - 2s 0us/step\n"
          ]
        }
      ]
    },
    {
      "cell_type": "markdown",
      "source": [
        "# Preprocess the data"
      ],
      "metadata": {
        "id": "MN3HDE48TULs"
      }
    },
    {
      "cell_type": "code",
      "source": [
        "#Normalization of the pixels values\n",
        "x_train = x_train.astype('float32')/255.0\n",
        "x_test = x_test.astype('float32')/255.0\n",
        "\n",
        "#One-Hot Encoder\n",
        "y_train = to_categorical(y_train, 10)\n",
        "y_test = to_categorical(y_test, 10)\n",
        "\n",
        "#Add channel dimension for Conv2D\n",
        "x_train = np.expand_dims(x_train, axis= -1)\n",
        "x_test = np.expand_dims(x_test, axis= -1)\n"
      ],
      "metadata": {
        "id": "659rjyrJTY7K"
      },
      "execution_count": 6,
      "outputs": []
    },
    {
      "cell_type": "markdown",
      "source": [
        "# Build a Neural Network"
      ],
      "metadata": {
        "id": "lM1xVyoiVMYf"
      }
    },
    {
      "cell_type": "code",
      "source": [
        "model = Sequential()\n",
        "#layer1\n",
        "model.add(Conv2D(32,(3,3), activation = 'relu', input_shape =(28, 28, 1)))\n",
        "model.add(MaxPooling2D((2,2)))\n",
        "#layer2\n",
        "model.add(Conv2D(64,(3,3), activation = 'relu'))\n",
        "model.add(MaxPooling2D((2,2)))\n",
        "#layer3\n",
        "model.add(Conv2D(128,(3,3), activation = 'relu'))\n",
        "model.add(MaxPooling2D((2,2)))\n",
        "#layer4[flatten layer]\n",
        "model.add(Flatten())\n",
        "model.add(Dense(128, activation = 'relu'))\n",
        "#layer5[connecting layers and the 'softmax' layer]\n",
        "model.add(Dropout(0.5))\n",
        "model.add(Dense(10, activation = 'softmax'))\n"
      ],
      "metadata": {
        "id": "j5NrU2VQVTax"
      },
      "execution_count": 7,
      "outputs": []
    },
    {
      "cell_type": "markdown",
      "source": [
        "# Compile the Model"
      ],
      "metadata": {
        "id": "U5OK2FYbYzUK"
      }
    },
    {
      "cell_type": "code",
      "source": [
        "model.compile(loss='categorical_crossentropy', optimizer='adam', metrics=['accuracy'])\n",
        "\n"
      ],
      "metadata": {
        "id": "Io5hMQ2MY2h7"
      },
      "execution_count": 8,
      "outputs": []
    },
    {
      "cell_type": "markdown",
      "source": [
        "# Train the Model"
      ],
      "metadata": {
        "id": "_kJACadDZhtE"
      }
    },
    {
      "cell_type": "code",
      "source": [
        "epochs = 20\n",
        "batch_size = 128\n",
        "\n",
        "#train the model\n",
        "model.fit(x_train, y_train, epochs=epochs, batch_size=batch_size, validation_split=0.1)"
      ],
      "metadata": {
        "colab": {
          "base_uri": "https://localhost:8080/"
        },
        "id": "8FRB8hxhZkn5",
        "outputId": "2111efd3-0819-4aa5-f1a1-2e732e730e08"
      },
      "execution_count": 9,
      "outputs": [
        {
          "output_type": "stream",
          "name": "stdout",
          "text": [
            "Epoch 1/20\n",
            "422/422 [==============================] - 14s 6ms/step - loss: 0.4694 - accuracy: 0.8530 - val_loss: 0.1004 - val_accuracy: 0.9702\n",
            "Epoch 2/20\n",
            "422/422 [==============================] - 2s 5ms/step - loss: 0.1446 - accuracy: 0.9579 - val_loss: 0.0675 - val_accuracy: 0.9802\n",
            "Epoch 3/20\n",
            "422/422 [==============================] - 2s 5ms/step - loss: 0.0997 - accuracy: 0.9713 - val_loss: 0.0521 - val_accuracy: 0.9857\n",
            "Epoch 4/20\n",
            "422/422 [==============================] - 2s 5ms/step - loss: 0.0786 - accuracy: 0.9778 - val_loss: 0.0518 - val_accuracy: 0.9853\n",
            "Epoch 5/20\n",
            "422/422 [==============================] - 3s 6ms/step - loss: 0.0643 - accuracy: 0.9815 - val_loss: 0.0485 - val_accuracy: 0.9855\n",
            "Epoch 6/20\n",
            "422/422 [==============================] - 2s 5ms/step - loss: 0.0548 - accuracy: 0.9841 - val_loss: 0.0406 - val_accuracy: 0.9892\n",
            "Epoch 7/20\n",
            "422/422 [==============================] - 2s 5ms/step - loss: 0.0480 - accuracy: 0.9859 - val_loss: 0.0458 - val_accuracy: 0.9868\n",
            "Epoch 8/20\n",
            "422/422 [==============================] - 2s 5ms/step - loss: 0.0428 - accuracy: 0.9873 - val_loss: 0.0391 - val_accuracy: 0.9892\n",
            "Epoch 9/20\n",
            "422/422 [==============================] - 2s 5ms/step - loss: 0.0380 - accuracy: 0.9886 - val_loss: 0.0398 - val_accuracy: 0.9895\n",
            "Epoch 10/20\n",
            "422/422 [==============================] - 3s 7ms/step - loss: 0.0325 - accuracy: 0.9904 - val_loss: 0.0441 - val_accuracy: 0.9877\n",
            "Epoch 11/20\n",
            "422/422 [==============================] - 3s 6ms/step - loss: 0.0275 - accuracy: 0.9916 - val_loss: 0.0385 - val_accuracy: 0.9898\n",
            "Epoch 12/20\n",
            "422/422 [==============================] - 2s 5ms/step - loss: 0.0259 - accuracy: 0.9916 - val_loss: 0.0425 - val_accuracy: 0.9900\n",
            "Epoch 13/20\n",
            "422/422 [==============================] - 2s 5ms/step - loss: 0.0231 - accuracy: 0.9926 - val_loss: 0.0476 - val_accuracy: 0.9877\n",
            "Epoch 14/20\n",
            "422/422 [==============================] - 2s 5ms/step - loss: 0.0213 - accuracy: 0.9935 - val_loss: 0.0507 - val_accuracy: 0.9877\n",
            "Epoch 15/20\n",
            "422/422 [==============================] - 2s 6ms/step - loss: 0.0189 - accuracy: 0.9939 - val_loss: 0.0495 - val_accuracy: 0.9883\n",
            "Epoch 16/20\n",
            "422/422 [==============================] - 3s 6ms/step - loss: 0.0155 - accuracy: 0.9951 - val_loss: 0.0440 - val_accuracy: 0.9903\n",
            "Epoch 17/20\n",
            "422/422 [==============================] - 2s 5ms/step - loss: 0.0158 - accuracy: 0.9947 - val_loss: 0.0420 - val_accuracy: 0.9898\n",
            "Epoch 18/20\n",
            "422/422 [==============================] - 2s 5ms/step - loss: 0.0136 - accuracy: 0.9954 - val_loss: 0.0532 - val_accuracy: 0.9875\n",
            "Epoch 19/20\n",
            "422/422 [==============================] - 2s 5ms/step - loss: 0.0130 - accuracy: 0.9954 - val_loss: 0.0474 - val_accuracy: 0.9900\n",
            "Epoch 20/20\n",
            "422/422 [==============================] - 2s 5ms/step - loss: 0.0123 - accuracy: 0.9959 - val_loss: 0.0471 - val_accuracy: 0.9905\n"
          ]
        },
        {
          "output_type": "execute_result",
          "data": {
            "text/plain": [
              "<keras.src.callbacks.History at 0x7dbb22936290>"
            ]
          },
          "metadata": {},
          "execution_count": 9
        }
      ]
    },
    {
      "cell_type": "markdown",
      "source": [
        "# Evaluate the Model"
      ],
      "metadata": {
        "id": "w0VtJ7RTeEXG"
      }
    },
    {
      "cell_type": "code",
      "source": [
        "loss, accuracy = model.evaluate(x_test, y_test)\n",
        "print(f'test loss: {loss:.4f}, Test accuracy: {accuracy:.4f}')"
      ],
      "metadata": {
        "colab": {
          "base_uri": "https://localhost:8080/"
        },
        "id": "9Fg8dQadeHrK",
        "outputId": "01603bb6-c50f-4bb9-c3aa-55f01cd8101a"
      },
      "execution_count": 10,
      "outputs": [
        {
          "output_type": "stream",
          "name": "stdout",
          "text": [
            "313/313 [==============================] - 3s 9ms/step - loss: 0.0566 - accuracy: 0.9878\n",
            "test loss: 0.0566, Test accuracy: 0.9878\n"
          ]
        }
      ]
    },
    {
      "cell_type": "markdown",
      "source": [
        "# Make Predictions"
      ],
      "metadata": {
        "id": "Lk9cro8VgW5R"
      }
    },
    {
      "cell_type": "code",
      "source": [
        "predictions = model.predict(x_test[:5])\n",
        "predicted_labels = np.argmax(predictions, axis=1)\n",
        "print ('Predicted Label:', predicted_labels)\n",
        "print ('True Label:', y_test[:5])"
      ],
      "metadata": {
        "colab": {
          "base_uri": "https://localhost:8080/"
        },
        "id": "s6M5r3dggWko",
        "outputId": "fdd467fa-5bf9-4737-af66-69b89692f8b5"
      },
      "execution_count": 11,
      "outputs": [
        {
          "output_type": "stream",
          "name": "stdout",
          "text": [
            "1/1 [==============================] - 0s 394ms/step\n",
            "Predicted Label: [7 2 1 0 4]\n",
            "True Label: [[0. 0. 0. 0. 0. 0. 0. 1. 0. 0.]\n",
            " [0. 0. 1. 0. 0. 0. 0. 0. 0. 0.]\n",
            " [0. 1. 0. 0. 0. 0. 0. 0. 0. 0.]\n",
            " [1. 0. 0. 0. 0. 0. 0. 0. 0. 0.]\n",
            " [0. 0. 0. 0. 1. 0. 0. 0. 0. 0.]]\n"
          ]
        }
      ]
    }
  ]
}